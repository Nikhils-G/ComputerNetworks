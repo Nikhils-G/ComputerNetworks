{
 "cells": [
  {
   "cell_type": "code",
   "execution_count": 3,
   "id": "06fdba7f",
   "metadata": {},
   "outputs": [
    {
     "name": "stdout",
     "output_type": "stream",
     "text": [
      "Buffer size= 4 out of bucket size = 10\n",
      "Buffer size= 7 out of bucket size = 10\n",
      "Buffer size= 10 out of bucket size = 10\n",
      "Packet loss =  4\n",
      "Buffer size= 9 out of bucket size = 10\n"
     ]
    }
   ],
   "source": [
    "# initial packets in the bucket\n",
    "storage = 0\n",
    "\n",
    "# total no. of times bucket content is checked\n",
    "no_of_queries = 4\n",
    "\n",
    "# total no. of packets that can\n",
    "# be accommodated in the bucket\n",
    "bucket_size = 10\n",
    "\n",
    "# no. of packets that enters the bucket at a time\n",
    "input_pkt_size = 4\n",
    "\n",
    "# no. of packets that exits the bucket at a time\n",
    "output_pkt_size = 1\n",
    "for i in range(0, no_of_queries): # space left\n",
    "\n",
    "    size_left = bucket_size - storage\n",
    "    if input_pkt_size <= size_left:\n",
    "    # update storage\n",
    "        storage += input_pkt_size\n",
    "    else:\n",
    "        print(\"Packet loss = \", input_pkt_size)\n",
    "\n",
    "    print(f\"Buffer size= {storage} out of bucket size = {bucket_size}\")\n",
    "\n",
    "    # as packets are sent out into the network, the size of the storage decreases\n",
    "    storage -= output_pkt_size"
   ]
  }
 ],
 "metadata": {
  "kernelspec": {
   "display_name": "Python 3 (ipykernel)",
   "language": "python",
   "name": "python3"
  },
  "language_info": {
   "codemirror_mode": {
    "name": "ipython",
    "version": 3
   },
   "file_extension": ".py",
   "mimetype": "text/x-python",
   "name": "python",
   "nbconvert_exporter": "python",
   "pygments_lexer": "ipython3",
   "version": "3.10.9"
  }
 },
 "nbformat": 4,
 "nbformat_minor": 5
}
